{
 "cells": [
  {
   "cell_type": "code",
   "execution_count": null,
   "metadata": {},
   "outputs": [],
   "source": [
    "import pandas as pd\n",
    "from tqdm import tqdm"
   ]
  },
  {
   "cell_type": "code",
   "execution_count": null,
   "metadata": {},
   "outputs": [],
   "source": [
    "df = pd.read_csv(\"Arabic_poetry_dataset.csv\", encoding=\"utf-8\")"
   ]
  },
  {
   "cell_type": "code",
   "execution_count": null,
   "metadata": {},
   "outputs": [],
   "source": [
    "allowed_chars = ['ض', 'ص', 'ث', 'ق', 'ف', 'غ', 'ع', 'ه', 'خ', 'ح', 'ج', 'د', 'ش', 'س', 'ي', 'ب', 'ل', 'ا', 'ت', 'ن', 'م',\n",
    "                 'ك', 'ط', 'ئ', 'ء', 'ؤ', 'ر' , 'ى', 'ة', 'و', 'ز', 'ظ', 'إ' ,'أ', 'آ', ' ', '\\n', 'ذ', 'ّ']\n",
    "\n",
    "def delete_puncs(poem):\n",
    "    for l in poem:\n",
    "        if l not in allowed_chars:\n",
    "            poem = poem.replace(l, \"\")\n",
    "    return poem\n",
    "\n",
    "def extract_poems(poet_name):\n",
    "    with open('.\\input\\{}.txt'.format(poet_name), 'w', encoding=\"utf-8\") as f:\n",
    "        for i in range(len(df)):\n",
    "            if df['poet_name'][i].format(poet_name) == poet_name:\n",
    "                poem = delete_puncs(df['poem_text'][i])\n",
    "                f.write(\"{}\\n\\n\".format(poem))"
   ]
  },
  {
   "cell_type": "code",
   "execution_count": null,
   "metadata": {},
   "outputs": [],
   "source": [
    "all_poets = set()\n",
    "for poet_name in df['poet_name']:\n",
    "    all_poets.add(poet_name)"
   ]
  },
  {
   "cell_type": "code",
   "execution_count": null,
   "metadata": {},
   "outputs": [],
   "source": [
    "# for poet in tqdm(all_poets):\n",
    "#     extract_poems(poet)\n",
    "\n",
    "extract_poems('أبو العلاء المعري')"
   ]
  }
 ],
 "metadata": {
  "kernelspec": {
   "display_name": "Python 3",
   "language": "python",
   "name": "python3"
  },
  "language_info": {
   "codemirror_mode": {
    "name": "ipython",
    "version": 3
   },
   "file_extension": ".py",
   "mimetype": "text/x-python",
   "name": "python",
   "nbconvert_exporter": "python",
   "pygments_lexer": "ipython3",
   "version": "3.6.10"
  }
 },
 "nbformat": 4,
 "nbformat_minor": 4
}
